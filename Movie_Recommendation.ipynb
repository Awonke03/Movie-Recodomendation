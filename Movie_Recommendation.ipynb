{
  "nbformat": 4,
  "nbformat_minor": 0,
  "metadata": {
    "colab": {
      "provenance": [],
      "authorship_tag": "ABX9TyMw8gpsWOUeu120JgMe2D6e",
      "include_colab_link": true
    },
    "kernelspec": {
      "name": "python3",
      "display_name": "Python 3"
    },
    "language_info": {
      "name": "python"
    }
  },
  "cells": [
    {
      "cell_type": "markdown",
      "metadata": {
        "id": "view-in-github",
        "colab_type": "text"
      },
      "source": [
        "<a href=\"https://colab.research.google.com/github/Awonke03/Movie-Recodomendation/blob/main/Movie_Recommendation.ipynb\" target=\"_parent\"><img src=\"https://colab.research.google.com/assets/colab-badge.svg\" alt=\"Open In Colab\"/></a>"
      ]
    },
    {
      "cell_type": "code",
      "source": [
        "from google.colab import drive\n",
        "drive.mount('/content/drive')"
      ],
      "metadata": {
        "colab": {
          "base_uri": "https://localhost:8080/"
        },
        "id": "ZqLFKObNHm4y",
        "outputId": "1b5c28c3-908b-4394-a025-0f3f9a3cc60c"
      },
      "execution_count": null,
      "outputs": [
        {
          "output_type": "stream",
          "name": "stdout",
          "text": [
            "Drive already mounted at /content/drive; to attempt to forcibly remount, call drive.mount(\"/content/drive\", force_remount=True).\n"
          ]
        }
      ]
    },
    {
      "cell_type": "code",
      "execution_count": null,
      "metadata": {
        "colab": {
          "base_uri": "https://localhost:8080/"
        },
        "id": "Rs4LsEK6G02G",
        "outputId": "763e5c2e-af52-46bb-c24b-16210479a056"
      },
      "outputs": [
        {
          "output_type": "execute_result",
          "data": {
            "text/plain": [
              "   movie_id       title  year  \\\n",
              "0         1   toy story  1995   \n",
              "1         2   goldeneye  1995   \n",
              "2         3  four rooms  1995   \n",
              "3         4  get shorty  1995   \n",
              "4         5     copycat  1995   \n",
              "\n",
              "                                           directors  \\\n",
              "0                                      John Lasseter   \n",
              "1                                    Martin Campbell   \n",
              "2  Allison Anders Alexandre Rockwell Robert Rodri...   \n",
              "3                                   Barry Sonnenfeld   \n",
              "4                                          Jon Amiel   \n",
              "\n",
              "                                              actors  \\\n",
              "0  Tom Hanks Tim Allen Don Rickles Jim Varney Wal...   \n",
              "1  Pierce Brosnan Sean Bean Izabella Scorupco Fam...   \n",
              "2  Sammi Davis Amanda De Cadenet Valeria Golino M...   \n",
              "3  John Travolta Gene Hackman Rene Russo Danny De...   \n",
              "4  Sigourney Weaver Holly Hunter Dermot Mulroney ...   \n",
              "\n",
              "                                      genres  \n",
              "0  Animation Adventure Comedy Family Fantasy  \n",
              "1                  Action Adventure Thriller  \n",
              "2                                     Comedy  \n",
              "3                      Comedy Crime Thriller  \n",
              "4                     Drama Mystery Thriller  "
            ],
            "text/html": [
              "\n",
              "  <div id=\"df-1225805f-e18c-4eb2-a992-e618a923c036\" class=\"colab-df-container\">\n",
              "    <div>\n",
              "<style scoped>\n",
              "    .dataframe tbody tr th:only-of-type {\n",
              "        vertical-align: middle;\n",
              "    }\n",
              "\n",
              "    .dataframe tbody tr th {\n",
              "        vertical-align: top;\n",
              "    }\n",
              "\n",
              "    .dataframe thead th {\n",
              "        text-align: right;\n",
              "    }\n",
              "</style>\n",
              "<table border=\"1\" class=\"dataframe\">\n",
              "  <thead>\n",
              "    <tr style=\"text-align: right;\">\n",
              "      <th></th>\n",
              "      <th>movie_id</th>\n",
              "      <th>title</th>\n",
              "      <th>year</th>\n",
              "      <th>directors</th>\n",
              "      <th>actors</th>\n",
              "      <th>genres</th>\n",
              "    </tr>\n",
              "  </thead>\n",
              "  <tbody>\n",
              "    <tr>\n",
              "      <th>0</th>\n",
              "      <td>1</td>\n",
              "      <td>toy story</td>\n",
              "      <td>1995</td>\n",
              "      <td>John Lasseter</td>\n",
              "      <td>Tom Hanks Tim Allen Don Rickles Jim Varney Wal...</td>\n",
              "      <td>Animation Adventure Comedy Family Fantasy</td>\n",
              "    </tr>\n",
              "    <tr>\n",
              "      <th>1</th>\n",
              "      <td>2</td>\n",
              "      <td>goldeneye</td>\n",
              "      <td>1995</td>\n",
              "      <td>Martin Campbell</td>\n",
              "      <td>Pierce Brosnan Sean Bean Izabella Scorupco Fam...</td>\n",
              "      <td>Action Adventure Thriller</td>\n",
              "    </tr>\n",
              "    <tr>\n",
              "      <th>2</th>\n",
              "      <td>3</td>\n",
              "      <td>four rooms</td>\n",
              "      <td>1995</td>\n",
              "      <td>Allison Anders Alexandre Rockwell Robert Rodri...</td>\n",
              "      <td>Sammi Davis Amanda De Cadenet Valeria Golino M...</td>\n",
              "      <td>Comedy</td>\n",
              "    </tr>\n",
              "    <tr>\n",
              "      <th>3</th>\n",
              "      <td>4</td>\n",
              "      <td>get shorty</td>\n",
              "      <td>1995</td>\n",
              "      <td>Barry Sonnenfeld</td>\n",
              "      <td>John Travolta Gene Hackman Rene Russo Danny De...</td>\n",
              "      <td>Comedy Crime Thriller</td>\n",
              "    </tr>\n",
              "    <tr>\n",
              "      <th>4</th>\n",
              "      <td>5</td>\n",
              "      <td>copycat</td>\n",
              "      <td>1995</td>\n",
              "      <td>Jon Amiel</td>\n",
              "      <td>Sigourney Weaver Holly Hunter Dermot Mulroney ...</td>\n",
              "      <td>Drama Mystery Thriller</td>\n",
              "    </tr>\n",
              "  </tbody>\n",
              "</table>\n",
              "</div>\n",
              "    <div class=\"colab-df-buttons\">\n",
              "\n",
              "  <div class=\"colab-df-container\">\n",
              "    <button class=\"colab-df-convert\" onclick=\"convertToInteractive('df-1225805f-e18c-4eb2-a992-e618a923c036')\"\n",
              "            title=\"Convert this dataframe to an interactive table.\"\n",
              "            style=\"display:none;\">\n",
              "\n",
              "  <svg xmlns=\"http://www.w3.org/2000/svg\" height=\"24px\" viewBox=\"0 -960 960 960\">\n",
              "    <path d=\"M120-120v-720h720v720H120Zm60-500h600v-160H180v160Zm220 220h160v-160H400v160Zm0 220h160v-160H400v160ZM180-400h160v-160H180v160Zm440 0h160v-160H620v160ZM180-180h160v-160H180v160Zm440 0h160v-160H620v160Z\"/>\n",
              "  </svg>\n",
              "    </button>\n",
              "\n",
              "  <style>\n",
              "    .colab-df-container {\n",
              "      display:flex;\n",
              "      gap: 12px;\n",
              "    }\n",
              "\n",
              "    .colab-df-convert {\n",
              "      background-color: #E8F0FE;\n",
              "      border: none;\n",
              "      border-radius: 50%;\n",
              "      cursor: pointer;\n",
              "      display: none;\n",
              "      fill: #1967D2;\n",
              "      height: 32px;\n",
              "      padding: 0 0 0 0;\n",
              "      width: 32px;\n",
              "    }\n",
              "\n",
              "    .colab-df-convert:hover {\n",
              "      background-color: #E2EBFA;\n",
              "      box-shadow: 0px 1px 2px rgba(60, 64, 67, 0.3), 0px 1px 3px 1px rgba(60, 64, 67, 0.15);\n",
              "      fill: #174EA6;\n",
              "    }\n",
              "\n",
              "    .colab-df-buttons div {\n",
              "      margin-bottom: 4px;\n",
              "    }\n",
              "\n",
              "    [theme=dark] .colab-df-convert {\n",
              "      background-color: #3B4455;\n",
              "      fill: #D2E3FC;\n",
              "    }\n",
              "\n",
              "    [theme=dark] .colab-df-convert:hover {\n",
              "      background-color: #434B5C;\n",
              "      box-shadow: 0px 1px 3px 1px rgba(0, 0, 0, 0.15);\n",
              "      filter: drop-shadow(0px 1px 2px rgba(0, 0, 0, 0.3));\n",
              "      fill: #FFFFFF;\n",
              "    }\n",
              "  </style>\n",
              "\n",
              "    <script>\n",
              "      const buttonEl =\n",
              "        document.querySelector('#df-1225805f-e18c-4eb2-a992-e618a923c036 button.colab-df-convert');\n",
              "      buttonEl.style.display =\n",
              "        google.colab.kernel.accessAllowed ? 'block' : 'none';\n",
              "\n",
              "      async function convertToInteractive(key) {\n",
              "        const element = document.querySelector('#df-1225805f-e18c-4eb2-a992-e618a923c036');\n",
              "        const dataTable =\n",
              "          await google.colab.kernel.invokeFunction('convertToInteractive',\n",
              "                                                    [key], {});\n",
              "        if (!dataTable) return;\n",
              "\n",
              "        const docLinkHtml = 'Like what you see? Visit the ' +\n",
              "          '<a target=\"_blank\" href=https://colab.research.google.com/notebooks/data_table.ipynb>data table notebook</a>'\n",
              "          + ' to learn more about interactive tables.';\n",
              "        element.innerHTML = '';\n",
              "        dataTable['output_type'] = 'display_data';\n",
              "        await google.colab.output.renderOutput(dataTable, element);\n",
              "        const docLink = document.createElement('div');\n",
              "        docLink.innerHTML = docLinkHtml;\n",
              "        element.appendChild(docLink);\n",
              "      }\n",
              "    </script>\n",
              "  </div>\n",
              "\n",
              "\n",
              "<div id=\"df-67134089-5c29-4431-bde1-5dc55ef1bb6c\">\n",
              "  <button class=\"colab-df-quickchart\" onclick=\"quickchart('df-67134089-5c29-4431-bde1-5dc55ef1bb6c')\"\n",
              "            title=\"Suggest charts\"\n",
              "            style=\"display:none;\">\n",
              "\n",
              "<svg xmlns=\"http://www.w3.org/2000/svg\" height=\"24px\"viewBox=\"0 0 24 24\"\n",
              "     width=\"24px\">\n",
              "    <g>\n",
              "        <path d=\"M19 3H5c-1.1 0-2 .9-2 2v14c0 1.1.9 2 2 2h14c1.1 0 2-.9 2-2V5c0-1.1-.9-2-2-2zM9 17H7v-7h2v7zm4 0h-2V7h2v10zm4 0h-2v-4h2v4z\"/>\n",
              "    </g>\n",
              "</svg>\n",
              "  </button>\n",
              "\n",
              "<style>\n",
              "  .colab-df-quickchart {\n",
              "      --bg-color: #E8F0FE;\n",
              "      --fill-color: #1967D2;\n",
              "      --hover-bg-color: #E2EBFA;\n",
              "      --hover-fill-color: #174EA6;\n",
              "      --disabled-fill-color: #AAA;\n",
              "      --disabled-bg-color: #DDD;\n",
              "  }\n",
              "\n",
              "  [theme=dark] .colab-df-quickchart {\n",
              "      --bg-color: #3B4455;\n",
              "      --fill-color: #D2E3FC;\n",
              "      --hover-bg-color: #434B5C;\n",
              "      --hover-fill-color: #FFFFFF;\n",
              "      --disabled-bg-color: #3B4455;\n",
              "      --disabled-fill-color: #666;\n",
              "  }\n",
              "\n",
              "  .colab-df-quickchart {\n",
              "    background-color: var(--bg-color);\n",
              "    border: none;\n",
              "    border-radius: 50%;\n",
              "    cursor: pointer;\n",
              "    display: none;\n",
              "    fill: var(--fill-color);\n",
              "    height: 32px;\n",
              "    padding: 0;\n",
              "    width: 32px;\n",
              "  }\n",
              "\n",
              "  .colab-df-quickchart:hover {\n",
              "    background-color: var(--hover-bg-color);\n",
              "    box-shadow: 0 1px 2px rgba(60, 64, 67, 0.3), 0 1px 3px 1px rgba(60, 64, 67, 0.15);\n",
              "    fill: var(--button-hover-fill-color);\n",
              "  }\n",
              "\n",
              "  .colab-df-quickchart-complete:disabled,\n",
              "  .colab-df-quickchart-complete:disabled:hover {\n",
              "    background-color: var(--disabled-bg-color);\n",
              "    fill: var(--disabled-fill-color);\n",
              "    box-shadow: none;\n",
              "  }\n",
              "\n",
              "  .colab-df-spinner {\n",
              "    border: 2px solid var(--fill-color);\n",
              "    border-color: transparent;\n",
              "    border-bottom-color: var(--fill-color);\n",
              "    animation:\n",
              "      spin 1s steps(1) infinite;\n",
              "  }\n",
              "\n",
              "  @keyframes spin {\n",
              "    0% {\n",
              "      border-color: transparent;\n",
              "      border-bottom-color: var(--fill-color);\n",
              "      border-left-color: var(--fill-color);\n",
              "    }\n",
              "    20% {\n",
              "      border-color: transparent;\n",
              "      border-left-color: var(--fill-color);\n",
              "      border-top-color: var(--fill-color);\n",
              "    }\n",
              "    30% {\n",
              "      border-color: transparent;\n",
              "      border-left-color: var(--fill-color);\n",
              "      border-top-color: var(--fill-color);\n",
              "      border-right-color: var(--fill-color);\n",
              "    }\n",
              "    40% {\n",
              "      border-color: transparent;\n",
              "      border-right-color: var(--fill-color);\n",
              "      border-top-color: var(--fill-color);\n",
              "    }\n",
              "    60% {\n",
              "      border-color: transparent;\n",
              "      border-right-color: var(--fill-color);\n",
              "    }\n",
              "    80% {\n",
              "      border-color: transparent;\n",
              "      border-right-color: var(--fill-color);\n",
              "      border-bottom-color: var(--fill-color);\n",
              "    }\n",
              "    90% {\n",
              "      border-color: transparent;\n",
              "      border-bottom-color: var(--fill-color);\n",
              "    }\n",
              "  }\n",
              "</style>\n",
              "\n",
              "  <script>\n",
              "    async function quickchart(key) {\n",
              "      const quickchartButtonEl =\n",
              "        document.querySelector('#' + key + ' button');\n",
              "      quickchartButtonEl.disabled = true;  // To prevent multiple clicks.\n",
              "      quickchartButtonEl.classList.add('colab-df-spinner');\n",
              "      try {\n",
              "        const charts = await google.colab.kernel.invokeFunction(\n",
              "            'suggestCharts', [key], {});\n",
              "      } catch (error) {\n",
              "        console.error('Error during call to suggestCharts:', error);\n",
              "      }\n",
              "      quickchartButtonEl.classList.remove('colab-df-spinner');\n",
              "      quickchartButtonEl.classList.add('colab-df-quickchart-complete');\n",
              "    }\n",
              "    (() => {\n",
              "      let quickchartButtonEl =\n",
              "        document.querySelector('#df-67134089-5c29-4431-bde1-5dc55ef1bb6c button');\n",
              "      quickchartButtonEl.style.display =\n",
              "        google.colab.kernel.accessAllowed ? 'block' : 'none';\n",
              "    })();\n",
              "  </script>\n",
              "</div>\n",
              "\n",
              "    </div>\n",
              "  </div>\n"
            ]
          },
          "metadata": {},
          "execution_count": 111
        }
      ],
      "source": [
        "import pandas as pd\n",
        "import numpy as np\n",
        "dt=pd.read_csv(\"/content/drive/MyDrive/Datasets/movielens_100k.csv\")\n",
        "dt.head()"
      ]
    },
    {
      "cell_type": "code",
      "source": [
        "dt.columns"
      ],
      "metadata": {
        "colab": {
          "base_uri": "https://localhost:8080/"
        },
        "id": "wqeimR8Kf8hX",
        "outputId": "cf0853ef-9900-4752-92e6-5594056ad121"
      },
      "execution_count": null,
      "outputs": [
        {
          "output_type": "execute_result",
          "data": {
            "text/plain": [
              "Index(['movie_id', 'title', 'year', 'directors', 'actors', 'genres'], dtype='object')"
            ]
          },
          "metadata": {},
          "execution_count": 112
        }
      ]
    },
    {
      "cell_type": "code",
      "source": [
        "dt.info()"
      ],
      "metadata": {
        "colab": {
          "base_uri": "https://localhost:8080/"
        },
        "id": "elRstWpWI0qy",
        "outputId": "6658052d-64d3-412d-87fb-3ce42c62f54a"
      },
      "execution_count": null,
      "outputs": [
        {
          "output_type": "stream",
          "name": "stdout",
          "text": [
            "<class 'pandas.core.frame.DataFrame'>\n",
            "RangeIndex: 1681 entries, 0 to 1680\n",
            "Data columns (total 6 columns):\n",
            " #   Column     Non-Null Count  Dtype \n",
            "---  ------     --------------  ----- \n",
            " 0   movie_id   1681 non-null   int64 \n",
            " 1   title      1681 non-null   object\n",
            " 2   year       1681 non-null   int64 \n",
            " 3   directors  1555 non-null   object\n",
            " 4   actors     1555 non-null   object\n",
            " 5   genres     1561 non-null   object\n",
            "dtypes: int64(2), object(4)\n",
            "memory usage: 78.9+ KB\n"
          ]
        }
      ]
    },
    {
      "cell_type": "code",
      "source": [
        "!pip install dash-html-components dash-core-components\n"
      ],
      "metadata": {
        "colab": {
          "base_uri": "https://localhost:8080/"
        },
        "id": "3AFo8uHhqMUr",
        "outputId": "8529dfd6-f6cf-42ee-dc9f-86292646338b"
      },
      "execution_count": null,
      "outputs": [
        {
          "output_type": "stream",
          "name": "stdout",
          "text": [
            "Requirement already satisfied: dash-html-components in /usr/local/lib/python3.10/dist-packages (2.0.0)\n",
            "Requirement already satisfied: dash-core-components in /usr/local/lib/python3.10/dist-packages (2.0.0)\n"
          ]
        }
      ]
    },
    {
      "cell_type": "code",
      "source": [
        "!pip install dash\n"
      ],
      "metadata": {
        "colab": {
          "base_uri": "https://localhost:8080/"
        },
        "id": "GzqYP_RvqRGx",
        "outputId": "448f0e54-603e-4841-c287-d0b797087aaf"
      },
      "execution_count": null,
      "outputs": [
        {
          "output_type": "stream",
          "name": "stdout",
          "text": [
            "Requirement already satisfied: dash in /usr/local/lib/python3.10/dist-packages (2.14.2)\n",
            "Requirement already satisfied: Flask<3.1,>=1.0.4 in /usr/local/lib/python3.10/dist-packages (from dash) (2.2.5)\n",
            "Requirement already satisfied: Werkzeug<3.1 in /usr/local/lib/python3.10/dist-packages (from dash) (3.0.1)\n",
            "Requirement already satisfied: plotly>=5.0.0 in /usr/local/lib/python3.10/dist-packages (from dash) (5.15.0)\n",
            "Requirement already satisfied: dash-html-components==2.0.0 in /usr/local/lib/python3.10/dist-packages (from dash) (2.0.0)\n",
            "Requirement already satisfied: dash-core-components==2.0.0 in /usr/local/lib/python3.10/dist-packages (from dash) (2.0.0)\n",
            "Requirement already satisfied: dash-table==5.0.0 in /usr/local/lib/python3.10/dist-packages (from dash) (5.0.0)\n",
            "Requirement already satisfied: typing-extensions>=4.1.1 in /usr/local/lib/python3.10/dist-packages (from dash) (4.5.0)\n",
            "Requirement already satisfied: requests in /usr/local/lib/python3.10/dist-packages (from dash) (2.31.0)\n",
            "Requirement already satisfied: retrying in /usr/local/lib/python3.10/dist-packages (from dash) (1.3.4)\n",
            "Requirement already satisfied: ansi2html in /usr/local/lib/python3.10/dist-packages (from dash) (1.9.1)\n",
            "Requirement already satisfied: nest-asyncio in /usr/local/lib/python3.10/dist-packages (from dash) (1.5.8)\n",
            "Requirement already satisfied: setuptools in /usr/local/lib/python3.10/dist-packages (from dash) (67.7.2)\n",
            "Requirement already satisfied: importlib-metadata in /usr/local/lib/python3.10/dist-packages (from dash) (7.0.1)\n",
            "Requirement already satisfied: Jinja2>=3.0 in /usr/local/lib/python3.10/dist-packages (from Flask<3.1,>=1.0.4->dash) (3.1.2)\n",
            "Requirement already satisfied: itsdangerous>=2.0 in /usr/local/lib/python3.10/dist-packages (from Flask<3.1,>=1.0.4->dash) (2.1.2)\n",
            "Requirement already satisfied: click>=8.0 in /usr/local/lib/python3.10/dist-packages (from Flask<3.1,>=1.0.4->dash) (8.1.7)\n",
            "Requirement already satisfied: tenacity>=6.2.0 in /usr/local/lib/python3.10/dist-packages (from plotly>=5.0.0->dash) (8.2.3)\n",
            "Requirement already satisfied: packaging in /usr/local/lib/python3.10/dist-packages (from plotly>=5.0.0->dash) (23.2)\n",
            "Requirement already satisfied: MarkupSafe>=2.1.1 in /usr/local/lib/python3.10/dist-packages (from Werkzeug<3.1->dash) (2.1.3)\n",
            "Requirement already satisfied: zipp>=0.5 in /usr/local/lib/python3.10/dist-packages (from importlib-metadata->dash) (3.17.0)\n",
            "Requirement already satisfied: charset-normalizer<4,>=2 in /usr/local/lib/python3.10/dist-packages (from requests->dash) (3.3.2)\n",
            "Requirement already satisfied: idna<4,>=2.5 in /usr/local/lib/python3.10/dist-packages (from requests->dash) (3.6)\n",
            "Requirement already satisfied: urllib3<3,>=1.21.1 in /usr/local/lib/python3.10/dist-packages (from requests->dash) (2.0.7)\n",
            "Requirement already satisfied: certifi>=2017.4.17 in /usr/local/lib/python3.10/dist-packages (from requests->dash) (2023.11.17)\n",
            "Requirement already satisfied: six>=1.7.0 in /usr/local/lib/python3.10/dist-packages (from retrying->dash) (1.16.0)\n"
          ]
        }
      ]
    },
    {
      "cell_type": "code",
      "source": [],
      "metadata": {
        "id": "W_zinphzlHqG"
      },
      "execution_count": null,
      "outputs": []
    },
    {
      "cell_type": "code",
      "source": [
        "len(dt.directors.unique())"
      ],
      "metadata": {
        "colab": {
          "base_uri": "https://localhost:8080/"
        },
        "id": "1BG1-9VAKXXH",
        "outputId": "f64c7760-fa40-4947-f59d-eca77fab3f7d"
      },
      "execution_count": null,
      "outputs": [
        {
          "output_type": "execute_result",
          "data": {
            "text/plain": [
              "1000"
            ]
          },
          "metadata": {},
          "execution_count": 116
        }
      ]
    },
    {
      "cell_type": "code",
      "source": [
        "len(dt.title.unique())"
      ],
      "metadata": {
        "colab": {
          "base_uri": "https://localhost:8080/"
        },
        "id": "mc8BOoAmJPSq",
        "outputId": "f1123f83-4163-4ff8-b489-f8ef68da74f8"
      },
      "execution_count": null,
      "outputs": [
        {
          "output_type": "execute_result",
          "data": {
            "text/plain": [
              "1658"
            ]
          },
          "metadata": {},
          "execution_count": 117
        }
      ]
    },
    {
      "cell_type": "code",
      "source": [
        "y=dt[\"title\"]\n",
        "X=dt.drop(columns=\"title\")"
      ],
      "metadata": {
        "id": "zPkCgi5wLRf7"
      },
      "execution_count": null,
      "outputs": []
    },
    {
      "cell_type": "code",
      "source": [
        "from sklearn.model_selection import train_test_split\n",
        "X_train, X_test, y_train, y_test = train_test_split(X, y, test_size=0.2, random_state=42)\n"
      ],
      "metadata": {
        "id": "TSieYRD4IUI4"
      },
      "execution_count": null,
      "outputs": []
    },
    {
      "cell_type": "code",
      "source": [
        "import dash\n",
        "import dash_core_components as dcc\n",
        "import dash_html_components as html\n",
        "from dash.dependencies import Input, Output, State\n",
        "import plotly.express as px\n",
        "import pandas as pd\n",
        "from sklearn.feature_extraction.text import TfidfVectorizer\n",
        "from sklearn.metrics.pairwise import linear_kernel\n",
        "\n",
        "\n",
        "\n",
        "# Preprocess data for recommendation engine\n",
        "dt['year'] = dt['year'].fillna('')\n",
        "dt['directors'] = dt['directors'].fillna('')\n",
        "dt['actors'] = dt['actors'].fillna('')\n",
        "dt['genres'] = dt['genres'].fillna('')\n",
        "dt['combined_features'] = dt['year'].astype(str) + ' ' + dt['directors'] + ' ' + dt['actors'] + ' ' + dt['genres']\n",
        "\n",
        "tfidf = TfidfVectorizer(stop_words='english')\n",
        "tfidf_matrix = tfidf.fit_transform(dt['combined_features'])\n",
        "cosine_sim = linear_kernel(tfidf_matrix, tfidf_matrix)\n",
        "\n",
        "\n",
        "fig1 = px.scatter(dt.explode('genres'), x='directors', y='genres', title=\"Relationship between Directors and Genres\")\n",
        "fig1.update_layout(\n",
        "    xaxis_title=\"Director\",\n",
        "    yaxis_title=\"Genre\",\n",
        "    height=800,\n",
        "    width=1350,\n",
        ")\n",
        "\n",
        "# Visualization 2: Number of Movies in Each Genre\n",
        "fig2 = px.bar(dt['genres'].str.split(expand=True).stack().reset_index(name='Genre'), x='Genre', title=\"Number of Movies in Each Genre\")\n",
        "fig2.update_layout(xaxis_title=\"Genre\", yaxis_title=\"Number of Movies\", height=800, width=1350)\n",
        "\n",
        "# Visualization 3: Top Directors with the Most Movies\n",
        "fig3 = px.bar(dt['directors'].value_counts().reset_index(), x='index', y='directors', title=\"Top Directors with the Most Movies\")\n",
        "fig3.update_layout(xaxis_title=\"Director\", yaxis_title=\"Number of Movies\", height=800, width=1350)\n",
        "\n",
        "years_count = dt.year.value_counts().sort_index()\n",
        "df = pd.DataFrame({'Year': years_count.index, 'Count': years_count.values})\n",
        "# Visualization 4: Yearly Counts\n",
        "fig4 = px.line(df, x='Year', y='Count', markers=True, title='Yearly Counts',\n",
        "              labels={'Count': 'Number of Occurrences', 'Year': 'Year'})\n",
        "fig4.update_layout(height=800, width=1350)\n",
        "\n",
        "# Create Dash app\n",
        "app = dash.Dash(__name__, suppress_callback_exceptions=True)\n",
        "\n",
        "dt.dropna(inplace=True)\n",
        "\n",
        "# Visualization 5: Sunburst chart\n",
        "fig5 = px.sunburst(dt, path=['year', 'genres', 'title'])\n",
        "fig5.update_layout(title_text=\"Genres and Movies by Year\", height=800, width=1350)\n",
        "\n",
        "# Default layout\n",
        "default_layout = html.Div([\n",
        "    html.H1(\"Movie Recommendations\", style={'text-align': 'center'}),\n",
        "\n",
        "    dcc.Input(id='movie-input', type='text', placeholder='Enter a movie title', style={'width': '50%', 'margin': '10px'}),\n",
        "    html.Button(id='submit-button', n_clicks=0, children='Get Recommendations', style={'margin': '10px'}),\n",
        "\n",
        "    html.Div(id='recommendations-output', style={'margin': '20px'})\n",
        "])\n",
        "\n",
        "# Define app layout\n",
        "app.layout = html.Div(children=[\n",
        "    html.Div(\n",
        "        className='menu',\n",
        "        children=[\n",
        "            html.Button('Search and Recommendations', id='btn-0', n_clicks=0, style={'backgroundColor': 'darkgrey', 'border-radius': '12px', 'margin-bottom': '10px'}),\n",
        "            html.Button('Directors and Genres', id='btn-1', n_clicks=0, style={'backgroundColor': 'darkgrey', 'border-radius': '12px', 'margin-bottom': '10px'}),\n",
        "            html.Button('Number of Movies in Each Genre', id='btn-2', n_clicks=0, style={'backgroundColor': 'darkgrey', 'border-radius': '12px', 'margin-bottom': '10px'}),\n",
        "            html.Button('Top Directors with the Most Movies', id='btn-3', n_clicks=0, style={'backgroundColor': 'darkgrey', 'border-radius': '12px', 'margin-bottom': '10px'}),\n",
        "            html.Button('Yearly Counts', id='btn-4', n_clicks=0, style={'backgroundColor': 'darkgrey', 'border-radius': '12px', 'margin-bottom': '10px'}),\n",
        "            html.Button('Sunburst Chart', id='btn-5', n_clicks=0, style={'backgroundColor': 'darkgrey', 'border-radius': '12px', 'margin-bottom': '10px'}),\n",
        "        ]\n",
        "    ),\n",
        "\n",
        "    html.Div(id='page-content', style={'backgroundColor': 'darkgrey', 'padding': '20px'}),\n",
        "])\n",
        "\n",
        "# Callback to update page content based on button clicks\n",
        "@app.callback(Output('page-content', 'children'),\n",
        "              [Input('btn-0', 'n_clicks'),\n",
        "               Input('btn-1', 'n_clicks'),\n",
        "               Input('btn-2', 'n_clicks'),\n",
        "               Input('btn-3', 'n_clicks'),\n",
        "               Input('btn-4', 'n_clicks'),\n",
        "               Input('btn-5', 'n_clicks')])\n",
        "def display_page(btn0, btn1, btn2, btn3, btn4, btn5):\n",
        "    ctx = dash.callback_context\n",
        "    button_id = ctx.triggered_id.split('.')[0] if ctx.triggered_id else 'btn-0'\n",
        "\n",
        "    if button_id == 'btn-0':\n",
        "        return default_layout\n",
        "    elif button_id == 'btn-1':\n",
        "        return dcc.Graph(figure=fig1)\n",
        "    elif button_id == 'btn-2':\n",
        "        return dcc.Graph(figure=fig2)\n",
        "    elif button_id == 'btn-3':\n",
        "        return dcc.Graph(figure=fig3)\n",
        "    elif button_id == 'btn-4':\n",
        "        return dcc.Graph(figure=fig4)\n",
        "    elif button_id == 'btn-5':\n",
        "        return dcc.Graph(figure=fig5)\n",
        "    else:\n",
        "        return default_layout\n",
        "\n",
        "# Callback to handle button click and display recommendations\n",
        "@app.callback(Output('recommendations-output', 'children'),\n",
        "              [Input('submit-button', 'n_clicks')],\n",
        "              [State('movie-input', 'value')])\n",
        "def get_recommendations(n_clicks, movie_title):\n",
        "    if n_clicks > 0 and movie_title:\n",
        "        if movie_title not in dt['title'].values:\n",
        "            return f\"Movie with title '{movie_title}' not found in the dataset.\"\n",
        "\n",
        "        idx = dt[dt['title'] == movie_title].index[0]\n",
        "        sim_scores = list(enumerate(cosine_sim[idx]))\n",
        "        sim_scores = sorted(sim_scores, key=lambda x: x[1], reverse=True)\n",
        "        sim_scores = sim_scores[1:11]\n",
        "        movie_indices = [i[0] for i in sim_scores]\n",
        "        recommended_movies = dt['title'].iloc[movie_indices]\n",
        "\n",
        "        return html.Ul([html.Li(movie) for movie in recommended_movies])\n",
        "\n",
        "    return \"\"\n",
        "\n",
        "# Run the server\n",
        "if __name__ == '__main__':\n",
        "    app.run_server(debug=True, host='127.0.0.1', port=8050)\n"
      ],
      "metadata": {
        "colab": {
          "base_uri": "https://localhost:8080/",
          "height": 672
        },
        "id": "kj8VXziCp6nW",
        "outputId": "9119beec-ee8a-4427-8e73-aa3a53fe21ec"
      },
      "execution_count": 122,
      "outputs": [
        {
          "output_type": "display_data",
          "data": {
            "text/plain": [
              "<IPython.core.display.Javascript object>"
            ],
            "application/javascript": [
              "(async (port, path, width, height, cache, element) => {\n",
              "    if (!google.colab.kernel.accessAllowed && !cache) {\n",
              "      return;\n",
              "    }\n",
              "    element.appendChild(document.createTextNode(''));\n",
              "    const url = await google.colab.kernel.proxyPort(port, {cache});\n",
              "    const iframe = document.createElement('iframe');\n",
              "    iframe.src = new URL(path, url).toString();\n",
              "    iframe.height = height;\n",
              "    iframe.width = width;\n",
              "    iframe.style.border = 0;\n",
              "    iframe.allow = [\n",
              "        'accelerometer',\n",
              "        'autoplay',\n",
              "        'camera',\n",
              "        'clipboard-read',\n",
              "        'clipboard-write',\n",
              "        'gyroscope',\n",
              "        'magnetometer',\n",
              "        'microphone',\n",
              "        'serial',\n",
              "        'usb',\n",
              "        'xr-spatial-tracking',\n",
              "    ].join('; ');\n",
              "    element.appendChild(iframe);\n",
              "  })(8050, \"/\", \"100%\", 650, false, window.element)"
            ]
          },
          "metadata": {}
        }
      ]
    }
  ]
}